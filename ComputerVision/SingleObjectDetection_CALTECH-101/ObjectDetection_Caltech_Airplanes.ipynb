{
  "nbformat": 4,
  "nbformat_minor": 0,
  "metadata": {
    "colab": {
      "name": "ObjectDetection_Caltech_Airplanes.ipynb",
      "provenance": [],
      "collapsed_sections": []
    },
    "kernelspec": {
      "name": "python3",
      "display_name": "Python 3"
    },
    "language_info": {
      "name": "python"
    },
    "accelerator": "GPU"
  },
  "cells": [
    {
      "cell_type": "code",
      "execution_count": 1,
      "metadata": {
        "colab": {
          "base_uri": "https://localhost:8080/"
        },
        "id": "wsA3YF22Ukai",
        "outputId": "7598b32c-5663-4f92-e5e9-f8fb66226813"
      },
      "outputs": [
        {
          "output_type": "stream",
          "name": "stdout",
          "text": [
            "Mounted at /content/drive\n"
          ]
        }
      ],
      "source": [
        "from google.colab import drive\n",
        "drive.mount('/content/drive')"
      ]
    },
    {
      "cell_type": "code",
      "source": [
        "# import the necessary packages\n",
        "import os\n",
        "# define the base path to the input dataset and then use it to derive\n",
        "# the path to the images directory and annotation CSV file\n",
        "BASE_PATH = \"/content/drive/MyDrive/DataScience/ObjDectection_Caltech_Airplanes/dataset/\"\n",
        "IMAGES_PATH = os.path.sep.join([BASE_PATH, \"images\"])\n",
        "ANNOTS_PATH = os.path.sep.join([BASE_PATH, \"airplanes.csv\"])"
      ],
      "metadata": {
        "id": "ZN2SjYIyUwOh"
      },
      "execution_count": 2,
      "outputs": []
    },
    {
      "cell_type": "code",
      "source": [
        "# !unzip \"/content/drive/MyDrive/DataScience/ObjDectection_Caltech_Airplanes/dataset/images.zip\" -d \"/content/drive/MyDrive/DataScience/ObjDectection_Caltech_Airplanes/dataset/\""
      ],
      "metadata": {
        "id": "YZ7F6-DIVzp0"
      },
      "execution_count": 3,
      "outputs": []
    },
    {
      "cell_type": "code",
      "source": [
        "# define the path to the base output directory\n",
        "BASE_OUTPUT = \"/content/drive/MyDrive/DataScience/ObjDectection_Caltech_Airplanes/output/\"\n",
        "# define the path to the output serialized model, model training plot,\n",
        "# and testing image filenames\n",
        "MODEL_PATH = os.path.sep.join([BASE_OUTPUT, \"detector.h5\"])\n",
        "PLOT_PATH = os.path.sep.join([BASE_OUTPUT, \"plot.png\"])\n",
        "TEST_FILENAMES = os.path.sep.join([BASE_OUTPUT, \"test_images.txt\"])"
      ],
      "metadata": {
        "id": "pCeqCZZPVufO"
      },
      "execution_count": 4,
      "outputs": []
    },
    {
      "cell_type": "code",
      "source": [
        "INIT_LR = 1e-4\n",
        "NUM_EPOCHS = 25\n",
        "BATCH_SIZE = 32"
      ],
      "metadata": {
        "id": "7crik4E2WPgd"
      },
      "execution_count": 5,
      "outputs": []
    },
    {
      "cell_type": "code",
      "source": [
        "from tensorflow.keras.applications import VGG16\n",
        "from tensorflow.keras.layers import Flatten\n",
        "from tensorflow.keras.layers import Dense\n",
        "from tensorflow.keras.layers import Input\n",
        "from tensorflow.keras.models import Model\n",
        "from tensorflow.keras.optimizers import Adam\n",
        "from tensorflow.keras.preprocessing.image import img_to_array\n",
        "from tensorflow.keras.preprocessing.image import load_img\n",
        "from sklearn.model_selection import train_test_split\n",
        "import matplotlib.pyplot as plt\n",
        "import numpy as np\n",
        "import cv2\n",
        "import os"
      ],
      "metadata": {
        "id": "GTUm-7f-WSUq"
      },
      "execution_count": 6,
      "outputs": []
    },
    {
      "cell_type": "code",
      "source": [
        "print(\"[INFO] loading dataset...\")\n",
        "rows = open(ANNOTS_PATH).read().strip().split(\"\\n\")\n",
        "# initialize the list of data (images), our target output predictions\n",
        "# (bounding box coordinates), along with the filenames of the\n",
        "# individual images\n",
        "data = []\n",
        "targets = []\n",
        "filenames = []"
      ],
      "metadata": {
        "colab": {
          "base_uri": "https://localhost:8080/"
        },
        "id": "ImeAQIC-WYn6",
        "outputId": "2e8bbd78-7a84-49d2-aa1b-45870631dd2d"
      },
      "execution_count": 7,
      "outputs": [
        {
          "output_type": "stream",
          "name": "stdout",
          "text": [
            "[INFO] loading dataset...\n"
          ]
        }
      ]
    },
    {
      "cell_type": "code",
      "source": [
        "for row in rows:\n",
        "  row = row.split(',')\n",
        "  (filename, startX, startY, endX, endY) = row\n",
        "  imagepath = os.path.sep.join([IMAGES_PATH, filename])\n",
        "  image = cv2.imread(imagepath)\n",
        "  (h, w) = image.shape[:2]\n",
        "\n",
        "  startX = float(startX) / w\n",
        "  startY = float(startY) / h\n",
        "  endX = float(endX) / w\n",
        "  endY = float(endY) / h\n",
        "\n",
        "  image = load_img(imagepath, target_size=(224, 224))\n",
        "  image = img_to_array(image)\n",
        "\n",
        "  data.append(image)\n",
        "  targets.append((startX, startY, endX, endY))\n",
        "  filenames.append(filename)\n"
      ],
      "metadata": {
        "id": "4YwK7g1eaJXg"
      },
      "execution_count": 9,
      "outputs": []
    },
    {
      "cell_type": "code",
      "source": [
        "data = np.array(data, dtype='float32') / 255.0\n",
        "targets = np.array(targets, dtype='float32')\n",
        "\n",
        "split = train_test_split(data, targets, filenames, test_size=0.1, random_state=42)\n",
        "\n",
        "(trainImages, testImages) = split[:2]\n",
        "(trainTargets, testTargets) = split[2:4]\n",
        "(trainfilenames, testfilenames) = split[4:]\n",
        "\n",
        "print(\"Saving test filenames\")\n",
        "f = open(TEST_FILENAMES, \"w\")\n",
        "f.write('\\n'.join(testfilenames))\n",
        "f.close()\n",
        "                                "
      ],
      "metadata": {
        "colab": {
          "base_uri": "https://localhost:8080/"
        },
        "id": "C4NpA-s0bqLt",
        "outputId": "437797e8-5074-4e75-c1bd-19f0210722d6"
      },
      "execution_count": 10,
      "outputs": [
        {
          "output_type": "stream",
          "name": "stdout",
          "text": [
            "Saving test filenames\n"
          ]
        }
      ]
    },
    {
      "cell_type": "code",
      "source": [
        "vgg_model = VGG16(weights='imagenet', include_top=False, input_tensor=Input(shape=(224, 224, 3)))\n",
        "\n",
        "vgg_model.trainable = False\n",
        "\n",
        "flatten = vgg_model.output\n",
        "flatten = Flatten()(flatten)\n",
        "\n",
        "bboxhead = Dense(128, activation = \"relu\")(flatten)\n",
        "bboxhead = Dense(64, activation=\"relu\")(bboxhead)\n",
        "bboxhead = Dense(32, activation=\"relu\")(bboxhead)\n",
        "bboxhead = Dense(4, activation=\"sigmoid\")(bboxhead)\n",
        "\n",
        "model = Model(inputs=vgg_model.input, outputs=bboxhead)"
      ],
      "metadata": {
        "colab": {
          "base_uri": "https://localhost:8080/"
        },
        "id": "ar4gtk5-dIgw",
        "outputId": "181d2fb1-4f8e-4a76-f019-c0ba84f6e9b9"
      },
      "execution_count": 11,
      "outputs": [
        {
          "output_type": "stream",
          "name": "stdout",
          "text": [
            "Downloading data from https://storage.googleapis.com/tensorflow/keras-applications/vgg16/vgg16_weights_tf_dim_ordering_tf_kernels_notop.h5\n",
            "58892288/58889256 [==============================] - 0s 0us/step\n",
            "58900480/58889256 [==============================] - 0s 0us/step\n"
          ]
        }
      ]
    },
    {
      "cell_type": "code",
      "source": [
        "opt = Adam(lr=INIT_LR)\n",
        "model.compile(loss=\"mse\", optimizer=opt)\n",
        "print(model.summary())\n",
        "# train the network for bounding box regression\n",
        "print(\"[INFO] training bounding box regressor...\")\n",
        "H = model.fit(\n",
        "\ttrainImages, trainTargets,\n",
        "\tvalidation_data=(testImages, testTargets),\n",
        "\tbatch_size=BATCH_SIZE,\n",
        "\tepochs=NUM_EPOCHS,\n",
        "\tverbose=1)"
      ],
      "metadata": {
        "colab": {
          "base_uri": "https://localhost:8080/"
        },
        "id": "g5Fj3BzdczcU",
        "outputId": "b378f4eb-7843-4d79-fde3-59603f72d701"
      },
      "execution_count": 12,
      "outputs": [
        {
          "output_type": "stream",
          "name": "stdout",
          "text": [
            "Model: \"model\"\n",
            "_________________________________________________________________\n",
            " Layer (type)                Output Shape              Param #   \n",
            "=================================================================\n",
            " input_1 (InputLayer)        [(None, 224, 224, 3)]     0         \n",
            "                                                                 \n",
            " block1_conv1 (Conv2D)       (None, 224, 224, 64)      1792      \n",
            "                                                                 \n",
            " block1_conv2 (Conv2D)       (None, 224, 224, 64)      36928     \n",
            "                                                                 \n",
            " block1_pool (MaxPooling2D)  (None, 112, 112, 64)      0         \n",
            "                                                                 \n",
            " block2_conv1 (Conv2D)       (None, 112, 112, 128)     73856     \n",
            "                                                                 \n",
            " block2_conv2 (Conv2D)       (None, 112, 112, 128)     147584    \n",
            "                                                                 \n",
            " block2_pool (MaxPooling2D)  (None, 56, 56, 128)       0         \n",
            "                                                                 \n",
            " block3_conv1 (Conv2D)       (None, 56, 56, 256)       295168    \n",
            "                                                                 \n",
            " block3_conv2 (Conv2D)       (None, 56, 56, 256)       590080    \n",
            "                                                                 \n",
            " block3_conv3 (Conv2D)       (None, 56, 56, 256)       590080    \n",
            "                                                                 \n",
            " block3_pool (MaxPooling2D)  (None, 28, 28, 256)       0         \n",
            "                                                                 \n",
            " block4_conv1 (Conv2D)       (None, 28, 28, 512)       1180160   \n",
            "                                                                 \n",
            " block4_conv2 (Conv2D)       (None, 28, 28, 512)       2359808   \n",
            "                                                                 \n",
            " block4_conv3 (Conv2D)       (None, 28, 28, 512)       2359808   \n",
            "                                                                 \n",
            " block4_pool (MaxPooling2D)  (None, 14, 14, 512)       0         \n",
            "                                                                 \n",
            " block5_conv1 (Conv2D)       (None, 14, 14, 512)       2359808   \n",
            "                                                                 \n",
            " block5_conv2 (Conv2D)       (None, 14, 14, 512)       2359808   \n",
            "                                                                 \n",
            " block5_conv3 (Conv2D)       (None, 14, 14, 512)       2359808   \n",
            "                                                                 \n",
            " block5_pool (MaxPooling2D)  (None, 7, 7, 512)         0         \n",
            "                                                                 \n",
            " flatten (Flatten)           (None, 25088)             0         \n",
            "                                                                 \n",
            " dense (Dense)               (None, 128)               3211392   \n",
            "                                                                 \n",
            " dense_1 (Dense)             (None, 64)                8256      \n",
            "                                                                 \n",
            " dense_2 (Dense)             (None, 32)                2080      \n",
            "                                                                 \n",
            " dense_3 (Dense)             (None, 4)                 132       \n",
            "                                                                 \n",
            "=================================================================\n",
            "Total params: 17,936,548\n",
            "Trainable params: 3,221,860\n",
            "Non-trainable params: 14,714,688\n",
            "_________________________________________________________________\n",
            "None\n",
            "[INFO] training bounding box regressor...\n"
          ]
        },
        {
          "output_type": "stream",
          "name": "stderr",
          "text": [
            "/usr/local/lib/python3.7/dist-packages/keras/optimizer_v2/adam.py:105: UserWarning: The `lr` argument is deprecated, use `learning_rate` instead.\n",
            "  super(Adam, self).__init__(name, **kwargs)\n"
          ]
        },
        {
          "output_type": "stream",
          "name": "stdout",
          "text": [
            "Epoch 1/25\n",
            "23/23 [==============================] - 32s 526ms/step - loss: 0.0113 - val_loss: 0.0042\n",
            "Epoch 2/25\n",
            "23/23 [==============================] - 6s 268ms/step - loss: 0.0025 - val_loss: 0.0011\n",
            "Epoch 3/25\n",
            "23/23 [==============================] - 6s 267ms/step - loss: 9.9962e-04 - val_loss: 8.5756e-04\n",
            "Epoch 4/25\n",
            "23/23 [==============================] - 6s 268ms/step - loss: 8.0127e-04 - val_loss: 7.5006e-04\n",
            "Epoch 5/25\n",
            "23/23 [==============================] - 6s 268ms/step - loss: 6.3330e-04 - val_loss: 6.2659e-04\n",
            "Epoch 6/25\n",
            "23/23 [==============================] - 6s 268ms/step - loss: 5.2947e-04 - val_loss: 6.3631e-04\n",
            "Epoch 7/25\n",
            "23/23 [==============================] - 6s 266ms/step - loss: 4.6567e-04 - val_loss: 5.9822e-04\n",
            "Epoch 8/25\n",
            "23/23 [==============================] - 6s 267ms/step - loss: 4.0513e-04 - val_loss: 6.2109e-04\n",
            "Epoch 9/25\n",
            "23/23 [==============================] - 6s 267ms/step - loss: 3.5876e-04 - val_loss: 6.2500e-04\n",
            "Epoch 10/25\n",
            "23/23 [==============================] - 6s 267ms/step - loss: 3.2488e-04 - val_loss: 6.0180e-04\n",
            "Epoch 11/25\n",
            "23/23 [==============================] - 6s 266ms/step - loss: 2.8382e-04 - val_loss: 5.9205e-04\n",
            "Epoch 12/25\n",
            "23/23 [==============================] - 6s 267ms/step - loss: 2.4611e-04 - val_loss: 6.0609e-04\n",
            "Epoch 13/25\n",
            "23/23 [==============================] - 6s 266ms/step - loss: 2.2305e-04 - val_loss: 5.9329e-04\n",
            "Epoch 14/25\n",
            "23/23 [==============================] - 6s 267ms/step - loss: 1.9564e-04 - val_loss: 5.9489e-04\n",
            "Epoch 15/25\n",
            "23/23 [==============================] - 6s 267ms/step - loss: 1.6935e-04 - val_loss: 6.2023e-04\n",
            "Epoch 16/25\n",
            "23/23 [==============================] - 6s 266ms/step - loss: 1.5531e-04 - val_loss: 5.8787e-04\n",
            "Epoch 17/25\n",
            "23/23 [==============================] - 6s 266ms/step - loss: 1.3902e-04 - val_loss: 5.9963e-04\n",
            "Epoch 18/25\n",
            "23/23 [==============================] - 6s 267ms/step - loss: 1.2994e-04 - val_loss: 6.1172e-04\n",
            "Epoch 19/25\n",
            "23/23 [==============================] - 6s 267ms/step - loss: 1.1685e-04 - val_loss: 6.0224e-04\n",
            "Epoch 20/25\n",
            "23/23 [==============================] - 6s 267ms/step - loss: 1.0288e-04 - val_loss: 6.1566e-04\n",
            "Epoch 21/25\n",
            "23/23 [==============================] - 6s 267ms/step - loss: 9.5562e-05 - val_loss: 5.9643e-04\n",
            "Epoch 22/25\n",
            "23/23 [==============================] - 6s 266ms/step - loss: 8.8497e-05 - val_loss: 6.1114e-04\n",
            "Epoch 23/25\n",
            "23/23 [==============================] - 6s 266ms/step - loss: 8.1581e-05 - val_loss: 6.0085e-04\n",
            "Epoch 24/25\n",
            "23/23 [==============================] - 6s 267ms/step - loss: 7.4164e-05 - val_loss: 6.0130e-04\n",
            "Epoch 25/25\n",
            "23/23 [==============================] - 6s 266ms/step - loss: 6.7591e-05 - val_loss: 6.0442e-04\n"
          ]
        }
      ]
    },
    {
      "cell_type": "code",
      "source": [
        "print(\"[INFO] saving object detector model...\")\n",
        "model.save(MODEL_PATH, save_format=\"h5\")"
      ],
      "metadata": {
        "colab": {
          "base_uri": "https://localhost:8080/"
        },
        "id": "MlFPAFTfeUoq",
        "outputId": "057f0243-0293-4f44-f37b-98598123df0a"
      },
      "execution_count": 13,
      "outputs": [
        {
          "output_type": "stream",
          "name": "stdout",
          "text": [
            "[INFO] saving object detector model...\n"
          ]
        }
      ]
    },
    {
      "cell_type": "code",
      "source": [
        "# plot the model training history\n",
        "N = NUM_EPOCHS\n",
        "plt.style.use(\"ggplot\")\n",
        "plt.figure()\n",
        "plt.plot(np.arange(0, N), H.history[\"loss\"], label=\"train_loss\")\n",
        "plt.plot(np.arange(0, N), H.history[\"val_loss\"], label=\"val_loss\")\n",
        "plt.title(\"Bounding Box Regression Loss on Training Set\")\n",
        "plt.xlabel(\"Epoch #\")\n",
        "plt.ylabel(\"Loss\")\n",
        "plt.legend(loc=\"lower left\")\n",
        "plt.savefig(PLOT_PATH)"
      ],
      "metadata": {
        "colab": {
          "base_uri": "https://localhost:8080/",
          "height": 299
        },
        "id": "GMDCzp-Lef1A",
        "outputId": "0bbf26f0-794c-4b4a-a7d1-6b20ff154619"
      },
      "execution_count": 14,
      "outputs": [
        {
          "output_type": "display_data",
          "data": {
            "image/png": "[encoded data removed]",
            "text/plain": [
              "<Figure size 432x288 with 1 Axes>"
            ]
          },
          "metadata": {}
        }
      ]
    },
    {
      "cell_type": "code",
      "source": [
        ""
      ],
      "metadata": {
        "id": "y9yl3nrXfAm8"
      },
      "execution_count": 14,
      "outputs": []
    }
  ]
}