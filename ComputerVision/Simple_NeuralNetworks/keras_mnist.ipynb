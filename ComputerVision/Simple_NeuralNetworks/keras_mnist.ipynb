{
  "nbformat": 4,
  "nbformat_minor": 0,
  "metadata": {
    "colab": {
      "name": "keras_mnist.ipynb",
      "provenance": [],
      "collapsed_sections": []
    },
    "kernelspec": {
      "name": "python3",
      "display_name": "Python 3"
    },
    "language_info": {
      "name": "python"
    },
    "accelerator": "GPU"
  },
  "cells": [
    {
      "cell_type": "code",
      "execution_count": null,
      "metadata": {
        "id": "l-7O0Nkv_5ma"
      },
      "outputs": [],
      "source": [
        "from sklearn.preprocessing import LabelBinarizer\n",
        "from sklearn.model_selection import train_test_split\n",
        "from sklearn.metrics import classification_report\n",
        "from keras.models import Sequential\n",
        "from keras.layers.core import Dense\n",
        "from sklearn.datasets import fetch_openml\n",
        "import matplotlib.pyplot as plt\n",
        "import numpy as np\n",
        "from tensorflow import keras"
      ]
    },
    {
      "cell_type": "code",
      "source": [
        "print(\"[INFO]  loading MNIST full dataset...\")\n",
        "opt = keras.optimizers.Adam(learning_rate=0.01)\n",
        "\n",
        "dataset = fetch_openml('mnist_784')\n",
        "data = dataset.data.astype(\"float\") / 255.0\n",
        "\n",
        "(trainX, testX, trainY, testY) = train_test_split(data, dataset.target, test_size=0.25)"
      ],
      "metadata": {
        "colab": {
          "base_uri": "https://localhost:8080/"
        },
        "id": "p4WDcUTIAJbZ",
        "outputId": "3b2f40b4-9396-4219-8ead-48a23adc452d"
      },
      "execution_count": null,
      "outputs": [
        {
          "output_type": "stream",
          "name": "stdout",
          "text": [
            "[INFO]  loading MNIST full dataset...\n"
          ]
        }
      ]
    },
    {
      "cell_type": "code",
      "source": [
        "lb = LabelBinarizer()\n",
        "trainY = lb.fit_transform(trainY)\n",
        "testY = lb.transform(testY)"
      ],
      "metadata": {
        "id": "5ODiwTuKBvA2"
      },
      "execution_count": null,
      "outputs": []
    },
    {
      "cell_type": "code",
      "source": [
        "model = Sequential()\n",
        "\n",
        "model.add(Dense(256, input_shape=(784,), activation=\"sigmoid\"))\n",
        "model.add(Dense(128, activation=\"sigmoid\"))\n",
        "model.add(Dense(10, activation=\"softmax\"))"
      ],
      "metadata": {
        "id": "VPH_qOq7CzaV"
      },
      "execution_count": null,
      "outputs": []
    },
    {
      "cell_type": "code",
      "source": [
        "print(\"[INFO] training network..\")\n",
        "epochs = 100\n",
        "\n",
        "model.compile(loss=\"categorical_crossentropy\", optimizer=opt, metrics=[\"accuracy\"])\n",
        "H = model.fit(trainX, trainY, validation_data=(testX, testY), epochs=epochs, batch_size=128)"
      ],
      "metadata": {
        "colab": {
          "base_uri": "https://localhost:8080/"
        },
        "id": "iFrJC1jTDV3Y",
        "outputId": "cdba72fc-7681-48fe-d43d-b1034075b917"
      },
      "execution_count": null,
      "outputs": [
        {
          "output_type": "stream",
          "name": "stdout",
          "text": [
            "[INFO] training network..\n",
            "Epoch 1/100\n",
            "411/411 [==============================] - 3s 7ms/step - loss: 0.3639 - accuracy: 0.8938 - val_loss: 0.1884 - val_accuracy: 0.9434\n",
            "Epoch 2/100\n",
            "411/411 [==============================] - 2s 6ms/step - loss: 0.1451 - accuracy: 0.9568 - val_loss: 0.1598 - val_accuracy: 0.9523\n",
            "Epoch 3/100\n",
            "411/411 [==============================] - 2s 5ms/step - loss: 0.1046 - accuracy: 0.9685 - val_loss: 0.1215 - val_accuracy: 0.9642\n",
            "Epoch 4/100\n",
            "411/411 [==============================] - 2s 5ms/step - loss: 0.0826 - accuracy: 0.9751 - val_loss: 0.1165 - val_accuracy: 0.9671\n",
            "Epoch 5/100\n",
            "411/411 [==============================] - 2s 5ms/step - loss: 0.0685 - accuracy: 0.9783 - val_loss: 0.1161 - val_accuracy: 0.9667\n",
            "Epoch 6/100\n",
            "411/411 [==============================] - 2s 5ms/step - loss: 0.0602 - accuracy: 0.9811 - val_loss: 0.1155 - val_accuracy: 0.9672\n",
            "Epoch 7/100\n",
            "411/411 [==============================] - 2s 6ms/step - loss: 0.0522 - accuracy: 0.9838 - val_loss: 0.1104 - val_accuracy: 0.9687\n",
            "Epoch 8/100\n",
            "411/411 [==============================] - 2s 6ms/step - loss: 0.0486 - accuracy: 0.9844 - val_loss: 0.1106 - val_accuracy: 0.9701\n",
            "Epoch 9/100\n",
            "411/411 [==============================] - 2s 5ms/step - loss: 0.0407 - accuracy: 0.9867 - val_loss: 0.1186 - val_accuracy: 0.9682\n",
            "Epoch 10/100\n",
            "411/411 [==============================] - 2s 5ms/step - loss: 0.0402 - accuracy: 0.9870 - val_loss: 0.1219 - val_accuracy: 0.9687\n",
            "Epoch 11/100\n",
            "411/411 [==============================] - 2s 6ms/step - loss: 0.0368 - accuracy: 0.9875 - val_loss: 0.1227 - val_accuracy: 0.9661\n",
            "Epoch 12/100\n",
            "411/411 [==============================] - 2s 5ms/step - loss: 0.0336 - accuracy: 0.9892 - val_loss: 0.1108 - val_accuracy: 0.9713\n",
            "Epoch 13/100\n",
            "411/411 [==============================] - 2s 6ms/step - loss: 0.0302 - accuracy: 0.9900 - val_loss: 0.1268 - val_accuracy: 0.9674\n",
            "Epoch 14/100\n",
            "411/411 [==============================] - 2s 5ms/step - loss: 0.0304 - accuracy: 0.9900 - val_loss: 0.1290 - val_accuracy: 0.9673\n",
            "Epoch 15/100\n",
            "411/411 [==============================] - 2s 6ms/step - loss: 0.0285 - accuracy: 0.9906 - val_loss: 0.1311 - val_accuracy: 0.9689\n",
            "Epoch 16/100\n",
            "411/411 [==============================] - 2s 5ms/step - loss: 0.0284 - accuracy: 0.9903 - val_loss: 0.1308 - val_accuracy: 0.9688\n",
            "Epoch 17/100\n",
            "411/411 [==============================] - 2s 6ms/step - loss: 0.0250 - accuracy: 0.9918 - val_loss: 0.1355 - val_accuracy: 0.9703\n",
            "Epoch 18/100\n",
            "411/411 [==============================] - 2s 5ms/step - loss: 0.0258 - accuracy: 0.9914 - val_loss: 0.1276 - val_accuracy: 0.9702\n",
            "Epoch 19/100\n",
            "411/411 [==============================] - 2s 6ms/step - loss: 0.0238 - accuracy: 0.9914 - val_loss: 0.1353 - val_accuracy: 0.9691\n",
            "Epoch 20/100\n",
            "411/411 [==============================] - 2s 6ms/step - loss: 0.0237 - accuracy: 0.9920 - val_loss: 0.1294 - val_accuracy: 0.9713\n",
            "Epoch 21/100\n",
            "411/411 [==============================] - 2s 6ms/step - loss: 0.0241 - accuracy: 0.9919 - val_loss: 0.1521 - val_accuracy: 0.9663\n",
            "Epoch 22/100\n",
            "411/411 [==============================] - 2s 6ms/step - loss: 0.0221 - accuracy: 0.9930 - val_loss: 0.1388 - val_accuracy: 0.9686\n",
            "Epoch 23/100\n",
            "411/411 [==============================] - 2s 6ms/step - loss: 0.0213 - accuracy: 0.9931 - val_loss: 0.1456 - val_accuracy: 0.9699\n",
            "Epoch 24/100\n",
            "411/411 [==============================] - 2s 6ms/step - loss: 0.0223 - accuracy: 0.9925 - val_loss: 0.1423 - val_accuracy: 0.9697\n",
            "Epoch 25/100\n",
            "411/411 [==============================] - 2s 5ms/step - loss: 0.0239 - accuracy: 0.9922 - val_loss: 0.1746 - val_accuracy: 0.9641\n",
            "Epoch 26/100\n",
            "411/411 [==============================] - 2s 5ms/step - loss: 0.0237 - accuracy: 0.9923 - val_loss: 0.1492 - val_accuracy: 0.9685\n",
            "Epoch 27/100\n",
            "411/411 [==============================] - 2s 5ms/step - loss: 0.0201 - accuracy: 0.9932 - val_loss: 0.1632 - val_accuracy: 0.9643\n",
            "Epoch 28/100\n",
            "411/411 [==============================] - 2s 5ms/step - loss: 0.0181 - accuracy: 0.9941 - val_loss: 0.1375 - val_accuracy: 0.9715\n",
            "Epoch 29/100\n",
            "411/411 [==============================] - 2s 6ms/step - loss: 0.0143 - accuracy: 0.9955 - val_loss: 0.1310 - val_accuracy: 0.9725\n",
            "Epoch 30/100\n",
            "411/411 [==============================] - 2s 5ms/step - loss: 0.0173 - accuracy: 0.9943 - val_loss: 0.1430 - val_accuracy: 0.9705\n",
            "Epoch 31/100\n",
            "411/411 [==============================] - 2s 5ms/step - loss: 0.0172 - accuracy: 0.9939 - val_loss: 0.1663 - val_accuracy: 0.9669\n",
            "Epoch 32/100\n",
            "411/411 [==============================] - 2s 5ms/step - loss: 0.0214 - accuracy: 0.9928 - val_loss: 0.1547 - val_accuracy: 0.9694\n",
            "Epoch 33/100\n",
            "411/411 [==============================] - 2s 6ms/step - loss: 0.0226 - accuracy: 0.9926 - val_loss: 0.1546 - val_accuracy: 0.9696\n",
            "Epoch 34/100\n",
            "411/411 [==============================] - 2s 6ms/step - loss: 0.0185 - accuracy: 0.9943 - val_loss: 0.1372 - val_accuracy: 0.9735\n",
            "Epoch 35/100\n",
            "411/411 [==============================] - 2s 6ms/step - loss: 0.0138 - accuracy: 0.9951 - val_loss: 0.1378 - val_accuracy: 0.9724\n",
            "Epoch 36/100\n",
            "411/411 [==============================] - 2s 6ms/step - loss: 0.0172 - accuracy: 0.9944 - val_loss: 0.1423 - val_accuracy: 0.9717\n",
            "Epoch 37/100\n",
            "411/411 [==============================] - 2s 6ms/step - loss: 0.0170 - accuracy: 0.9940 - val_loss: 0.1364 - val_accuracy: 0.9726\n",
            "Epoch 38/100\n",
            "411/411 [==============================] - 2s 6ms/step - loss: 0.0179 - accuracy: 0.9942 - val_loss: 0.1583 - val_accuracy: 0.9706\n",
            "Epoch 39/100\n",
            "411/411 [==============================] - 3s 8ms/step - loss: 0.0149 - accuracy: 0.9952 - val_loss: 0.1437 - val_accuracy: 0.9739\n",
            "Epoch 40/100\n",
            "411/411 [==============================] - 3s 7ms/step - loss: 0.0133 - accuracy: 0.9954 - val_loss: 0.1524 - val_accuracy: 0.9713\n",
            "Epoch 41/100\n",
            "411/411 [==============================] - 4s 9ms/step - loss: 0.0146 - accuracy: 0.9953 - val_loss: 0.1424 - val_accuracy: 0.9729\n",
            "Epoch 42/100\n",
            "411/411 [==============================] - 3s 6ms/step - loss: 0.0130 - accuracy: 0.9956 - val_loss: 0.1444 - val_accuracy: 0.9722\n",
            "Epoch 43/100\n",
            "411/411 [==============================] - 2s 6ms/step - loss: 0.0143 - accuracy: 0.9954 - val_loss: 0.1536 - val_accuracy: 0.9694\n",
            "Epoch 44/100\n",
            "411/411 [==============================] - 2s 6ms/step - loss: 0.0242 - accuracy: 0.9926 - val_loss: 0.1430 - val_accuracy: 0.9720\n",
            "Epoch 45/100\n",
            "411/411 [==============================] - 2s 5ms/step - loss: 0.0227 - accuracy: 0.9924 - val_loss: 0.1642 - val_accuracy: 0.9701\n",
            "Epoch 46/100\n",
            "411/411 [==============================] - 2s 6ms/step - loss: 0.0190 - accuracy: 0.9940 - val_loss: 0.1584 - val_accuracy: 0.9701\n",
            "Epoch 47/100\n",
            "411/411 [==============================] - 2s 6ms/step - loss: 0.0134 - accuracy: 0.9955 - val_loss: 0.1555 - val_accuracy: 0.9716\n",
            "Epoch 48/100\n",
            "411/411 [==============================] - 2s 5ms/step - loss: 0.0101 - accuracy: 0.9962 - val_loss: 0.1396 - val_accuracy: 0.9739\n",
            "Epoch 49/100\n",
            "411/411 [==============================] - 2s 6ms/step - loss: 0.0161 - accuracy: 0.9948 - val_loss: 0.1589 - val_accuracy: 0.9723\n",
            "Epoch 50/100\n",
            "411/411 [==============================] - 2s 5ms/step - loss: 0.0139 - accuracy: 0.9956 - val_loss: 0.1506 - val_accuracy: 0.9725\n",
            "Epoch 51/100\n",
            "411/411 [==============================] - 2s 6ms/step - loss: 0.0164 - accuracy: 0.9948 - val_loss: 0.1653 - val_accuracy: 0.9697\n",
            "Epoch 52/100\n",
            "411/411 [==============================] - 3s 7ms/step - loss: 0.0185 - accuracy: 0.9944 - val_loss: 0.1408 - val_accuracy: 0.9730\n",
            "Epoch 53/100\n",
            "411/411 [==============================] - 2s 6ms/step - loss: 0.0104 - accuracy: 0.9966 - val_loss: 0.1560 - val_accuracy: 0.9710\n",
            "Epoch 54/100\n",
            "411/411 [==============================] - 2s 6ms/step - loss: 0.0108 - accuracy: 0.9963 - val_loss: 0.1581 - val_accuracy: 0.9727\n",
            "Epoch 55/100\n",
            "411/411 [==============================] - 2s 5ms/step - loss: 0.0148 - accuracy: 0.9950 - val_loss: 0.1551 - val_accuracy: 0.9723\n",
            "Epoch 56/100\n",
            "411/411 [==============================] - 2s 5ms/step - loss: 0.0151 - accuracy: 0.9951 - val_loss: 0.1512 - val_accuracy: 0.9719\n",
            "Epoch 57/100\n",
            "411/411 [==============================] - 2s 5ms/step - loss: 0.0151 - accuracy: 0.9954 - val_loss: 0.1578 - val_accuracy: 0.9691\n",
            "Epoch 58/100\n",
            "411/411 [==============================] - 2s 6ms/step - loss: 0.0117 - accuracy: 0.9960 - val_loss: 0.1576 - val_accuracy: 0.9713\n",
            "Epoch 59/100\n",
            "411/411 [==============================] - 2s 5ms/step - loss: 0.0124 - accuracy: 0.9962 - val_loss: 0.1480 - val_accuracy: 0.9749\n",
            "Epoch 60/100\n",
            "411/411 [==============================] - 2s 6ms/step - loss: 0.0137 - accuracy: 0.9953 - val_loss: 0.1583 - val_accuracy: 0.9709\n",
            "Epoch 61/100\n",
            "411/411 [==============================] - 2s 6ms/step - loss: 0.0178 - accuracy: 0.9941 - val_loss: 0.1453 - val_accuracy: 0.9738\n",
            "Epoch 62/100\n",
            "411/411 [==============================] - 2s 5ms/step - loss: 0.0121 - accuracy: 0.9961 - val_loss: 0.1467 - val_accuracy: 0.9741\n",
            "Epoch 63/100\n",
            "411/411 [==============================] - 2s 6ms/step - loss: 0.0095 - accuracy: 0.9969 - val_loss: 0.1539 - val_accuracy: 0.9747\n",
            "Epoch 64/100\n",
            "411/411 [==============================] - 2s 5ms/step - loss: 0.0132 - accuracy: 0.9957 - val_loss: 0.1656 - val_accuracy: 0.9690\n",
            "Epoch 65/100\n",
            "411/411 [==============================] - 2s 6ms/step - loss: 0.0207 - accuracy: 0.9930 - val_loss: 0.1546 - val_accuracy: 0.9715\n",
            "Epoch 66/100\n",
            "411/411 [==============================] - 2s 5ms/step - loss: 0.0121 - accuracy: 0.9959 - val_loss: 0.1514 - val_accuracy: 0.9722\n",
            "Epoch 67/100\n",
            "411/411 [==============================] - 2s 6ms/step - loss: 0.0148 - accuracy: 0.9953 - val_loss: 0.1559 - val_accuracy: 0.9713\n",
            "Epoch 68/100\n",
            "411/411 [==============================] - 2s 6ms/step - loss: 0.0154 - accuracy: 0.9947 - val_loss: 0.1595 - val_accuracy: 0.9714\n",
            "Epoch 69/100\n",
            "411/411 [==============================] - 2s 6ms/step - loss: 0.0139 - accuracy: 0.9950 - val_loss: 0.1439 - val_accuracy: 0.9754\n",
            "Epoch 70/100\n",
            "411/411 [==============================] - 2s 6ms/step - loss: 0.0115 - accuracy: 0.9962 - val_loss: 0.1505 - val_accuracy: 0.9730\n",
            "Epoch 71/100\n",
            "411/411 [==============================] - 2s 5ms/step - loss: 0.0069 - accuracy: 0.9979 - val_loss: 0.1442 - val_accuracy: 0.9746\n",
            "Epoch 72/100\n",
            "411/411 [==============================] - 2s 6ms/step - loss: 0.0080 - accuracy: 0.9973 - val_loss: 0.1542 - val_accuracy: 0.9742\n",
            "Epoch 73/100\n",
            "411/411 [==============================] - 2s 5ms/step - loss: 0.0116 - accuracy: 0.9962 - val_loss: 0.1565 - val_accuracy: 0.9731\n",
            "Epoch 74/100\n",
            "411/411 [==============================] - 2s 6ms/step - loss: 0.0165 - accuracy: 0.9951 - val_loss: 0.1607 - val_accuracy: 0.9727\n",
            "Epoch 75/100\n",
            "411/411 [==============================] - 2s 5ms/step - loss: 0.0123 - accuracy: 0.9959 - val_loss: 0.1621 - val_accuracy: 0.9732\n",
            "Epoch 76/100\n",
            "411/411 [==============================] - 2s 5ms/step - loss: 0.0100 - accuracy: 0.9971 - val_loss: 0.1707 - val_accuracy: 0.9703\n",
            "Epoch 77/100\n",
            "411/411 [==============================] - 2s 6ms/step - loss: 0.0120 - accuracy: 0.9959 - val_loss: 0.1535 - val_accuracy: 0.9732\n",
            "Epoch 78/100\n",
            "411/411 [==============================] - 3s 6ms/step - loss: 0.0078 - accuracy: 0.9977 - val_loss: 0.1553 - val_accuracy: 0.9727\n",
            "Epoch 79/100\n",
            "411/411 [==============================] - 2s 6ms/step - loss: 0.0111 - accuracy: 0.9968 - val_loss: 0.1532 - val_accuracy: 0.9734\n",
            "Epoch 80/100\n",
            "411/411 [==============================] - 2s 6ms/step - loss: 0.0069 - accuracy: 0.9976 - val_loss: 0.1546 - val_accuracy: 0.9725\n",
            "Epoch 81/100\n",
            "411/411 [==============================] - 2s 6ms/step - loss: 0.0117 - accuracy: 0.9965 - val_loss: 0.1685 - val_accuracy: 0.9700\n",
            "Epoch 82/100\n",
            "411/411 [==============================] - 2s 6ms/step - loss: 0.0156 - accuracy: 0.9951 - val_loss: 0.1688 - val_accuracy: 0.9719\n",
            "Epoch 83/100\n",
            "411/411 [==============================] - 2s 5ms/step - loss: 0.0131 - accuracy: 0.9959 - val_loss: 0.1658 - val_accuracy: 0.9729\n",
            "Epoch 84/100\n",
            "411/411 [==============================] - 2s 6ms/step - loss: 0.0083 - accuracy: 0.9973 - val_loss: 0.1477 - val_accuracy: 0.9742\n",
            "Epoch 85/100\n",
            "411/411 [==============================] - 2s 6ms/step - loss: 0.0098 - accuracy: 0.9968 - val_loss: 0.1618 - val_accuracy: 0.9714\n",
            "Epoch 86/100\n",
            "411/411 [==============================] - 3s 6ms/step - loss: 0.0110 - accuracy: 0.9965 - val_loss: 0.1501 - val_accuracy: 0.9749\n",
            "Epoch 87/100\n",
            "411/411 [==============================] - 2s 5ms/step - loss: 0.0092 - accuracy: 0.9970 - val_loss: 0.1698 - val_accuracy: 0.9718\n",
            "Epoch 88/100\n",
            "411/411 [==============================] - 2s 6ms/step - loss: 0.0140 - accuracy: 0.9955 - val_loss: 0.1639 - val_accuracy: 0.9730\n",
            "Epoch 89/100\n",
            "411/411 [==============================] - 2s 6ms/step - loss: 0.0135 - accuracy: 0.9959 - val_loss: 0.1567 - val_accuracy: 0.9729\n",
            "Epoch 90/100\n",
            "411/411 [==============================] - 3s 6ms/step - loss: 0.0103 - accuracy: 0.9968 - val_loss: 0.1636 - val_accuracy: 0.9722\n",
            "Epoch 91/100\n",
            "411/411 [==============================] - 2s 6ms/step - loss: 0.0092 - accuracy: 0.9970 - val_loss: 0.1619 - val_accuracy: 0.9738\n",
            "Epoch 92/100\n",
            "411/411 [==============================] - 3s 6ms/step - loss: 0.0067 - accuracy: 0.9979 - val_loss: 0.1567 - val_accuracy: 0.9739\n",
            "Epoch 93/100\n",
            "411/411 [==============================] - 2s 6ms/step - loss: 0.0101 - accuracy: 0.9967 - val_loss: 0.1586 - val_accuracy: 0.9743\n",
            "Epoch 94/100\n",
            "411/411 [==============================] - 2s 6ms/step - loss: 0.0121 - accuracy: 0.9963 - val_loss: 0.1586 - val_accuracy: 0.9744\n",
            "Epoch 95/100\n",
            "411/411 [==============================] - 3s 6ms/step - loss: 0.0117 - accuracy: 0.9965 - val_loss: 0.1622 - val_accuracy: 0.9723\n",
            "Epoch 96/100\n",
            "411/411 [==============================] - 2s 6ms/step - loss: 0.0078 - accuracy: 0.9976 - val_loss: 0.1733 - val_accuracy: 0.9713\n",
            "Epoch 97/100\n",
            "411/411 [==============================] - 2s 6ms/step - loss: 0.0124 - accuracy: 0.9962 - val_loss: 0.1713 - val_accuracy: 0.9726\n",
            "Epoch 98/100\n",
            "411/411 [==============================] - 2s 6ms/step - loss: 0.0098 - accuracy: 0.9971 - val_loss: 0.1583 - val_accuracy: 0.9744\n",
            "Epoch 99/100\n",
            "411/411 [==============================] - 2s 6ms/step - loss: 0.0114 - accuracy: 0.9963 - val_loss: 0.1643 - val_accuracy: 0.9718\n",
            "Epoch 100/100\n",
            "411/411 [==============================] - 2s 6ms/step - loss: 0.0115 - accuracy: 0.9962 - val_loss: 0.1636 - val_accuracy: 0.9727\n"
          ]
        }
      ]
    },
    {
      "cell_type": "code",
      "source": [
        "print(\"[INFO] evaluating network...\")\n",
        "\n",
        "predictions = model.predict(testX, batch_size=128)\n",
        "\n",
        "print(classification_report(testY.argmax(axis=1), predictions.argmax(axis=1), target_names = [str(x) for x in lb.classes_]))"
      ],
      "metadata": {
        "colab": {
          "base_uri": "https://localhost:8080/"
        },
        "id": "MdGaJSKdD-aC",
        "outputId": "d15e33db-8dbf-45b3-e5e9-0aec69778d0a"
      },
      "execution_count": null,
      "outputs": [
        {
          "output_type": "stream",
          "name": "stdout",
          "text": [
            "[INFO] evaluating network...\n",
            "              precision    recall  f1-score   support\n",
            "\n",
            "           0       0.98      0.99      0.98      1702\n",
            "           1       0.99      0.99      0.99      1947\n",
            "           2       0.97      0.96      0.97      1727\n",
            "           3       0.97      0.97      0.97      1808\n",
            "           4       0.98      0.97      0.97      1731\n",
            "           5       0.97      0.96      0.96      1546\n",
            "           6       0.98      0.98      0.98      1687\n",
            "           7       0.98      0.97      0.98      1866\n",
            "           8       0.96      0.97      0.96      1740\n",
            "           9       0.95      0.97      0.96      1746\n",
            "\n",
            "    accuracy                           0.97     17500\n",
            "   macro avg       0.97      0.97      0.97     17500\n",
            "weighted avg       0.97      0.97      0.97     17500\n",
            "\n"
          ]
        }
      ]
    },
    {
      "cell_type": "code",
      "source": [
        "from google.colab import drive\n",
        "\n",
        "drive.mount('/content/drive')"
      ],
      "metadata": {
        "colab": {
          "base_uri": "https://localhost:8080/"
        },
        "id": "OUdlXIPsFFl7",
        "outputId": "573591ce-b932-4d1b-ee19-1dd43c644063"
      },
      "execution_count": null,
      "outputs": [
        {
          "output_type": "stream",
          "name": "stdout",
          "text": [
            "Drive already mounted at /content/drive; to attempt to forcibly remount, call drive.mount(\"/content/drive\", force_remount=True).\n"
          ]
        }
      ]
    },
    {
      "cell_type": "code",
      "source": [
        "plt.style.use(\"ggplot\")\n",
        "plt.figure()\n",
        "plt.plot(np.arange(0, epochs), H.history[\"loss\"], label=\"train_loss\")\n",
        "plt.plot(np.arange(0, epochs), H.history[\"val_loss\"], label=\"val_loss\")\n",
        "plt.plot(np.arange(0, epochs), H.history[\"accuracy\"], label=\"train_acc\")\n",
        "plt.plot(np.arange(0, epochs), H.history[\"val_accuracy\"], label=\"val_acc\")\n",
        "plt.title(\"Training loss and accuracy\")\n",
        "plt.xlabel(\"Epoch #\")\n",
        "plt.ylabel(\"Loss/Accuracy\")\n",
        "plt.legend()\n",
        "plt.savefig('/content/drive/MyDrive/DataScience/Pyimagesearch_DeepLearningBook/Chapter10/keras_mnist_output.png')"
      ],
      "metadata": {
        "colab": {
          "base_uri": "https://localhost:8080/",
          "height": 299
        },
        "id": "n_6RLP9NEXPr",
        "outputId": "deb0e271-8366-458a-8d36-0c29bad79d99"
      },
      "execution_count": null,
      "outputs": [
        {
          "output_type": "display_data",
          "data": {
            "image/png": "[encoded data removed]",
            "text/plain": [
              "<Figure size 432x288 with 1 Axes>"
            ]
          },
          "metadata": {}
        }
      ]
    },
    {
      "cell_type": "code",
      "source": [
        ""
      ],
      "metadata": {
        "id": "RRWZc-56GpI-"
      },
      "execution_count": null,
      "outputs": []
    }
  ]
}