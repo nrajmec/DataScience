{
  "cells": [
    {
      "cell_type": "code",
      "execution_count": 1,
      "metadata": {
        "id": "4DsW1bnZKZEi"
      },
      "outputs": [],
      "source": [
        "from sklearn.preprocessing import LabelBinarizer\n",
        "from sklearn.model_selection import train_test_split\n",
        "from sklearn.metrics import classification_report\n",
        "from keras.models import Sequential\n",
        "from keras.layers.core import Dense\n",
        "from keras.datasets import cifar10\n",
        "import matplotlib.pyplot as plt\n",
        "import numpy as np\n",
        "from tensorflow import keras"
      ]
    },
    {
      "cell_type": "code",
      "execution_count": 2,
      "metadata": {
        "colab": {
          "base_uri": "https://localhost:8080/"
        },
        "id": "410CGLNvKnTu",
        "outputId": "aa4b1707-2d75-4de4-b317-b6e56d762f37"
      },
      "outputs": [
        {
          "output_type": "stream",
          "name": "stdout",
          "text": [
            "Mounted at /content/drive\n"
          ]
        }
      ],
      "source": [
        "from google.colab import drive\n",
        "\n",
        "drive.mount('/content/drive')"
      ]
    },
    {
      "cell_type": "code",
      "execution_count": 3,
      "metadata": {
        "colab": {
          "base_uri": "https://localhost:8080/"
        },
        "id": "e428e13jKrAu",
        "outputId": "77c9ad2b-c74a-474d-bbf4-1be70925721e"
      },
      "outputs": [
        {
          "output_type": "stream",
          "name": "stdout",
          "text": [
            "[INFO] loading CIFAR-10 dataset...\n",
            "Downloading data from https://www.cs.toronto.edu/~kriz/cifar-10-python.tar.gz\n",
            "170500096/170498071 [==============================] - 2s 0us/step\n",
            "170508288/170498071 [==============================] - 2s 0us/step\n"
          ]
        }
      ],
      "source": [
        "print(\"[INFO] loading CIFAR-10 dataset...\")\n",
        "\n",
        "((trainX, trainY), (testX, testY)) = cifar10.load_data()\n",
        "\n",
        "trainX = trainX.astype('float') / 255.0\n",
        "testX = testX.astype('float') / 255.0\n",
        "\n",
        "trainX = trainX.reshape((trainX.shape[0], 3072))\n",
        "testX = testX.reshape((testX.shape[0], 3072))"
      ]
    },
    {
      "cell_type": "code",
      "execution_count": 4,
      "metadata": {
        "id": "qUb6K6RMLTPe"
      },
      "outputs": [],
      "source": [
        "lb = LabelBinarizer()\n",
        "trainY = lb.fit_transform(trainY)\n",
        "testY = lb.transform(testY)\n",
        "\n",
        "labelnames = ['airplane', 'automobile','bird', 'cat', 'deer', 'dog', 'frog', 'horse', 'ship', 'truck']"
      ]
    },
    {
      "cell_type": "code",
      "execution_count": 9,
      "metadata": {
        "id": "8PeYuduEMDCC"
      },
      "outputs": [],
      "source": [
        "model = Sequential()\n",
        "\n",
        "model.add(Dense(1024, input_shape=(3072,), activation=\"relu\"))\n",
        "model.add(Dense(512, activation=\"relu\"))\n",
        "model.add(Dense(256, activation=\"relu\"))\n",
        "model.add(Dense(128, activation=\"relu\"))\n",
        "model.add(Dense(10, activation=\"softmax\"))"
      ]
    },
    {
      "cell_type": "code",
      "execution_count": 10,
      "metadata": {
        "colab": {
          "base_uri": "https://localhost:8080/"
        },
        "id": "1TeU3xHgMH5z",
        "outputId": "c9197b2b-c605-4594-bfd7-9796f8ca8293"
      },
      "outputs": [
        {
          "output_type": "stream",
          "name": "stdout",
          "text": [
            "[INFO] training network..\n",
            "Epoch 1/100\n",
            "1563/1563 [==============================] - 10s 6ms/step - loss: 1.8569 - accuracy: 0.3331 - val_loss: 1.6958 - val_accuracy: 0.3890\n",
            "Epoch 2/100\n",
            "1563/1563 [==============================] - 10s 6ms/step - loss: 1.6533 - accuracy: 0.4126 - val_loss: 1.6180 - val_accuracy: 0.4268\n",
            "Epoch 3/100\n",
            "1563/1563 [==============================] - 9s 6ms/step - loss: 1.5669 - accuracy: 0.4408 - val_loss: 1.5411 - val_accuracy: 0.4506\n",
            "Epoch 4/100\n",
            "1563/1563 [==============================] - 10s 6ms/step - loss: 1.5013 - accuracy: 0.4669 - val_loss: 1.4769 - val_accuracy: 0.4718\n",
            "Epoch 5/100\n",
            "1563/1563 [==============================] - 9s 6ms/step - loss: 1.4557 - accuracy: 0.4835 - val_loss: 1.4893 - val_accuracy: 0.4605\n",
            "Epoch 6/100\n",
            "1563/1563 [==============================] - 10s 6ms/step - loss: 1.4087 - accuracy: 0.4983 - val_loss: 1.5164 - val_accuracy: 0.4581\n",
            "Epoch 7/100\n",
            "1563/1563 [==============================] - 9s 6ms/step - loss: 1.3721 - accuracy: 0.5122 - val_loss: 1.4937 - val_accuracy: 0.4749\n",
            "Epoch 8/100\n",
            "1563/1563 [==============================] - 9s 6ms/step - loss: 1.3349 - accuracy: 0.5233 - val_loss: 1.4764 - val_accuracy: 0.4749\n",
            "Epoch 9/100\n",
            "1563/1563 [==============================] - 9s 6ms/step - loss: 1.3031 - accuracy: 0.5372 - val_loss: 1.5632 - val_accuracy: 0.4481\n",
            "Epoch 10/100\n",
            "1563/1563 [==============================] - 10s 6ms/step - loss: 1.2732 - accuracy: 0.5474 - val_loss: 1.3894 - val_accuracy: 0.5054\n",
            "Epoch 11/100\n",
            "1563/1563 [==============================] - 10s 6ms/step - loss: 1.2408 - accuracy: 0.5599 - val_loss: 1.4217 - val_accuracy: 0.4957\n",
            "Epoch 12/100\n",
            "1563/1563 [==============================] - 9s 6ms/step - loss: 1.2123 - accuracy: 0.5702 - val_loss: 1.3776 - val_accuracy: 0.5104\n",
            "Epoch 13/100\n",
            "1563/1563 [==============================] - 9s 6ms/step - loss: 1.1842 - accuracy: 0.5802 - val_loss: 1.3683 - val_accuracy: 0.5061\n",
            "Epoch 14/100\n",
            "1563/1563 [==============================] - 11s 7ms/step - loss: 1.1555 - accuracy: 0.5898 - val_loss: 1.4268 - val_accuracy: 0.4939\n",
            "Epoch 15/100\n",
            "1563/1563 [==============================] - 10s 6ms/step - loss: 1.1263 - accuracy: 0.5976 - val_loss: 1.3611 - val_accuracy: 0.5154\n",
            "Epoch 16/100\n",
            "1563/1563 [==============================] - 10s 6ms/step - loss: 1.0994 - accuracy: 0.6083 - val_loss: 1.5012 - val_accuracy: 0.4818\n",
            "Epoch 17/100\n",
            "1563/1563 [==============================] - 10s 6ms/step - loss: 1.0739 - accuracy: 0.6186 - val_loss: 1.3636 - val_accuracy: 0.5282\n",
            "Epoch 18/100\n",
            "1563/1563 [==============================] - 10s 6ms/step - loss: 1.0487 - accuracy: 0.6253 - val_loss: 1.3348 - val_accuracy: 0.5318\n",
            "Epoch 19/100\n",
            "1563/1563 [==============================] - 9s 6ms/step - loss: 1.0198 - accuracy: 0.6366 - val_loss: 1.3122 - val_accuracy: 0.5360\n",
            "Epoch 20/100\n",
            "1563/1563 [==============================] - 10s 6ms/step - loss: 0.9928 - accuracy: 0.6474 - val_loss: 1.3427 - val_accuracy: 0.5348\n",
            "Epoch 21/100\n",
            "1563/1563 [==============================] - 9s 6ms/step - loss: 0.9643 - accuracy: 0.6571 - val_loss: 1.4390 - val_accuracy: 0.5251\n",
            "Epoch 22/100\n",
            "1563/1563 [==============================] - 9s 6ms/step - loss: 0.9373 - accuracy: 0.6670 - val_loss: 1.3563 - val_accuracy: 0.5317\n",
            "Epoch 23/100\n",
            "1563/1563 [==============================] - 10s 6ms/step - loss: 0.9093 - accuracy: 0.6770 - val_loss: 1.4586 - val_accuracy: 0.5151\n",
            "Epoch 24/100\n",
            "1563/1563 [==============================] - 10s 6ms/step - loss: 0.8852 - accuracy: 0.6860 - val_loss: 1.6472 - val_accuracy: 0.4756\n",
            "Epoch 25/100\n",
            "1563/1563 [==============================] - 10s 6ms/step - loss: 0.8586 - accuracy: 0.6953 - val_loss: 1.4936 - val_accuracy: 0.5126\n",
            "Epoch 26/100\n",
            "1563/1563 [==============================] - 10s 6ms/step - loss: 0.8301 - accuracy: 0.7051 - val_loss: 1.4351 - val_accuracy: 0.5261\n",
            "Epoch 27/100\n",
            "1563/1563 [==============================] - 9s 6ms/step - loss: 0.8063 - accuracy: 0.7141 - val_loss: 1.4080 - val_accuracy: 0.5350\n",
            "Epoch 28/100\n",
            "1563/1563 [==============================] - 10s 6ms/step - loss: 0.7784 - accuracy: 0.7234 - val_loss: 1.4457 - val_accuracy: 0.5314\n",
            "Epoch 29/100\n",
            "1563/1563 [==============================] - 10s 6ms/step - loss: 0.7520 - accuracy: 0.7335 - val_loss: 1.4415 - val_accuracy: 0.5389\n",
            "Epoch 30/100\n",
            "1563/1563 [==============================] - 10s 6ms/step - loss: 0.7253 - accuracy: 0.7434 - val_loss: 1.4825 - val_accuracy: 0.5372\n",
            "Epoch 31/100\n",
            "1563/1563 [==============================] - 10s 6ms/step - loss: 0.7047 - accuracy: 0.7486 - val_loss: 1.5268 - val_accuracy: 0.5299\n",
            "Epoch 32/100\n",
            "1563/1563 [==============================] - 10s 6ms/step - loss: 0.6742 - accuracy: 0.7605 - val_loss: 1.5460 - val_accuracy: 0.5352\n",
            "Epoch 33/100\n",
            "1563/1563 [==============================] - 10s 6ms/step - loss: 0.6496 - accuracy: 0.7715 - val_loss: 1.6499 - val_accuracy: 0.5149\n",
            "Epoch 34/100\n",
            "1563/1563 [==============================] - 9s 6ms/step - loss: 0.6279 - accuracy: 0.7757 - val_loss: 1.6595 - val_accuracy: 0.5271\n",
            "Epoch 35/100\n",
            "1563/1563 [==============================] - 10s 6ms/step - loss: 0.5934 - accuracy: 0.7885 - val_loss: 1.6897 - val_accuracy: 0.5183\n",
            "Epoch 36/100\n",
            "1563/1563 [==============================] - 9s 6ms/step - loss: 0.5773 - accuracy: 0.7959 - val_loss: 1.7303 - val_accuracy: 0.5117\n",
            "Epoch 37/100\n",
            "1563/1563 [==============================] - 10s 6ms/step - loss: 0.5539 - accuracy: 0.8052 - val_loss: 1.6017 - val_accuracy: 0.5412\n",
            "Epoch 38/100\n",
            "1563/1563 [==============================] - 9s 6ms/step - loss: 0.5281 - accuracy: 0.8138 - val_loss: 1.8228 - val_accuracy: 0.5139\n",
            "Epoch 39/100\n",
            "1563/1563 [==============================] - 9s 6ms/step - loss: 0.5065 - accuracy: 0.8203 - val_loss: 1.7149 - val_accuracy: 0.5309\n",
            "Epoch 40/100\n",
            "1563/1563 [==============================] - 10s 6ms/step - loss: 0.4807 - accuracy: 0.8288 - val_loss: 1.8445 - val_accuracy: 0.5274\n",
            "Epoch 41/100\n",
            "1563/1563 [==============================] - 10s 6ms/step - loss: 0.4666 - accuracy: 0.8341 - val_loss: 1.8632 - val_accuracy: 0.5235\n",
            "Epoch 42/100\n",
            "1563/1563 [==============================] - 10s 6ms/step - loss: 0.4422 - accuracy: 0.8447 - val_loss: 1.8293 - val_accuracy: 0.5269\n",
            "Epoch 43/100\n",
            "1563/1563 [==============================] - 10s 6ms/step - loss: 0.4209 - accuracy: 0.8511 - val_loss: 1.8268 - val_accuracy: 0.5339\n",
            "Epoch 44/100\n",
            "1563/1563 [==============================] - 9s 6ms/step - loss: 0.4005 - accuracy: 0.8592 - val_loss: 2.0209 - val_accuracy: 0.5174\n",
            "Epoch 45/100\n",
            "1563/1563 [==============================] - 9s 6ms/step - loss: 0.3823 - accuracy: 0.8662 - val_loss: 1.9908 - val_accuracy: 0.5176\n",
            "Epoch 46/100\n",
            "1563/1563 [==============================] - 9s 6ms/step - loss: 0.3667 - accuracy: 0.8696 - val_loss: 1.9963 - val_accuracy: 0.5405\n",
            "Epoch 47/100\n",
            "1563/1563 [==============================] - 10s 6ms/step - loss: 0.3543 - accuracy: 0.8748 - val_loss: 2.0756 - val_accuracy: 0.5418\n",
            "Epoch 48/100\n",
            "1563/1563 [==============================] - 10s 6ms/step - loss: 0.3379 - accuracy: 0.8808 - val_loss: 2.1741 - val_accuracy: 0.5137\n",
            "Epoch 49/100\n",
            "1563/1563 [==============================] - 10s 6ms/step - loss: 0.3245 - accuracy: 0.8852 - val_loss: 2.1346 - val_accuracy: 0.5218\n",
            "Epoch 50/100\n",
            "1563/1563 [==============================] - 10s 6ms/step - loss: 0.3073 - accuracy: 0.8913 - val_loss: 2.0487 - val_accuracy: 0.5441\n",
            "Epoch 51/100\n",
            "1563/1563 [==============================] - 9s 6ms/step - loss: 0.2987 - accuracy: 0.8944 - val_loss: 2.1799 - val_accuracy: 0.5277\n",
            "Epoch 52/100\n",
            "1563/1563 [==============================] - 10s 6ms/step - loss: 0.2858 - accuracy: 0.8990 - val_loss: 2.5479 - val_accuracy: 0.4801\n",
            "Epoch 53/100\n",
            "1563/1563 [==============================] - 10s 6ms/step - loss: 0.2651 - accuracy: 0.9055 - val_loss: 2.3130 - val_accuracy: 0.5232\n",
            "Epoch 54/100\n",
            "1563/1563 [==============================] - 10s 6ms/step - loss: 0.2707 - accuracy: 0.9044 - val_loss: 2.1515 - val_accuracy: 0.5321\n",
            "Epoch 55/100\n",
            "1563/1563 [==============================] - 10s 6ms/step - loss: 0.2449 - accuracy: 0.9137 - val_loss: 2.1943 - val_accuracy: 0.5404\n",
            "Epoch 56/100\n",
            "1563/1563 [==============================] - 10s 6ms/step - loss: 0.2341 - accuracy: 0.9186 - val_loss: 2.2916 - val_accuracy: 0.5451\n",
            "Epoch 57/100\n",
            "1563/1563 [==============================] - 9s 6ms/step - loss: 0.2233 - accuracy: 0.9221 - val_loss: 2.4506 - val_accuracy: 0.5225\n",
            "Epoch 58/100\n",
            "1563/1563 [==============================] - 9s 6ms/step - loss: 0.2185 - accuracy: 0.9239 - val_loss: 2.4642 - val_accuracy: 0.5337\n",
            "Epoch 59/100\n",
            "1563/1563 [==============================] - 9s 6ms/step - loss: 0.2245 - accuracy: 0.9215 - val_loss: 2.5521 - val_accuracy: 0.5318\n",
            "Epoch 60/100\n",
            "1563/1563 [==============================] - 10s 6ms/step - loss: 0.1886 - accuracy: 0.9340 - val_loss: 2.6670 - val_accuracy: 0.5259\n",
            "Epoch 61/100\n",
            "1563/1563 [==============================] - 10s 6ms/step - loss: 0.2015 - accuracy: 0.9290 - val_loss: 2.5930 - val_accuracy: 0.5482\n",
            "Epoch 62/100\n",
            "1563/1563 [==============================] - 10s 6ms/step - loss: 0.2008 - accuracy: 0.9296 - val_loss: 2.5442 - val_accuracy: 0.5431\n",
            "Epoch 63/100\n",
            "1563/1563 [==============================] - 10s 6ms/step - loss: 0.1785 - accuracy: 0.9374 - val_loss: 2.5048 - val_accuracy: 0.5455\n",
            "Epoch 64/100\n",
            "1563/1563 [==============================] - 10s 6ms/step - loss: 0.1780 - accuracy: 0.9388 - val_loss: 2.5091 - val_accuracy: 0.5435\n",
            "Epoch 65/100\n",
            "1563/1563 [==============================] - 10s 6ms/step - loss: 0.1500 - accuracy: 0.9490 - val_loss: 2.7873 - val_accuracy: 0.5395\n",
            "Epoch 66/100\n",
            "1563/1563 [==============================] - 10s 6ms/step - loss: 0.1521 - accuracy: 0.9468 - val_loss: 2.7657 - val_accuracy: 0.5282\n",
            "Epoch 67/100\n",
            "1563/1563 [==============================] - 10s 6ms/step - loss: 0.1460 - accuracy: 0.9486 - val_loss: 2.7367 - val_accuracy: 0.5377\n",
            "Epoch 68/100\n",
            "1563/1563 [==============================] - 10s 6ms/step - loss: 0.1632 - accuracy: 0.9426 - val_loss: 2.8034 - val_accuracy: 0.5292\n",
            "Epoch 69/100\n",
            "1563/1563 [==============================] - 10s 6ms/step - loss: 0.1414 - accuracy: 0.9524 - val_loss: 2.6673 - val_accuracy: 0.5462\n",
            "Epoch 70/100\n",
            "1563/1563 [==============================] - 10s 6ms/step - loss: 0.1374 - accuracy: 0.9518 - val_loss: 2.7613 - val_accuracy: 0.5460\n",
            "Epoch 71/100\n",
            "1563/1563 [==============================] - 10s 6ms/step - loss: 0.1365 - accuracy: 0.9539 - val_loss: 2.7584 - val_accuracy: 0.5399\n",
            "Epoch 72/100\n",
            "1563/1563 [==============================] - 10s 6ms/step - loss: 0.1291 - accuracy: 0.9557 - val_loss: 2.7159 - val_accuracy: 0.5476\n",
            "Epoch 73/100\n",
            "1563/1563 [==============================] - 10s 6ms/step - loss: 0.1260 - accuracy: 0.9563 - val_loss: 2.8301 - val_accuracy: 0.5438\n",
            "Epoch 74/100\n",
            "1563/1563 [==============================] - 10s 6ms/step - loss: 0.1205 - accuracy: 0.9583 - val_loss: 3.0398 - val_accuracy: 0.5349\n",
            "Epoch 75/100\n",
            "1563/1563 [==============================] - 10s 6ms/step - loss: 0.1201 - accuracy: 0.9598 - val_loss: 2.8867 - val_accuracy: 0.5462\n",
            "Epoch 76/100\n",
            "1563/1563 [==============================] - 10s 6ms/step - loss: 0.0889 - accuracy: 0.9709 - val_loss: 3.0612 - val_accuracy: 0.5390\n",
            "Epoch 77/100\n",
            "1563/1563 [==============================] - 10s 6ms/step - loss: 0.1125 - accuracy: 0.9611 - val_loss: 3.0400 - val_accuracy: 0.5500\n",
            "Epoch 78/100\n",
            "1563/1563 [==============================] - 10s 6ms/step - loss: 0.0939 - accuracy: 0.9687 - val_loss: 3.2595 - val_accuracy: 0.5035\n",
            "Epoch 79/100\n",
            "1563/1563 [==============================] - 10s 6ms/step - loss: 0.1281 - accuracy: 0.9559 - val_loss: 3.0422 - val_accuracy: 0.5399\n",
            "Epoch 80/100\n",
            "1563/1563 [==============================] - 10s 6ms/step - loss: 0.1229 - accuracy: 0.9576 - val_loss: 3.0501 - val_accuracy: 0.5439\n",
            "Epoch 81/100\n",
            "1563/1563 [==============================] - 10s 6ms/step - loss: 0.0588 - accuracy: 0.9811 - val_loss: 3.2798 - val_accuracy: 0.5349\n",
            "Epoch 82/100\n",
            "1563/1563 [==============================] - 10s 6ms/step - loss: 0.0768 - accuracy: 0.9737 - val_loss: 3.5461 - val_accuracy: 0.5060\n",
            "Epoch 83/100\n",
            "1563/1563 [==============================] - 10s 6ms/step - loss: 0.1047 - accuracy: 0.9653 - val_loss: 3.3103 - val_accuracy: 0.5236\n",
            "Epoch 84/100\n",
            "1563/1563 [==============================] - 10s 6ms/step - loss: 0.1067 - accuracy: 0.9637 - val_loss: 3.1172 - val_accuracy: 0.5424\n",
            "Epoch 85/100\n",
            "1563/1563 [==============================] - 10s 6ms/step - loss: 0.0553 - accuracy: 0.9823 - val_loss: 3.2026 - val_accuracy: 0.5434\n",
            "Epoch 86/100\n",
            "1563/1563 [==============================] - 10s 6ms/step - loss: 0.1003 - accuracy: 0.9665 - val_loss: 3.1894 - val_accuracy: 0.5365\n",
            "Epoch 87/100\n",
            "1563/1563 [==============================] - 10s 6ms/step - loss: 0.1156 - accuracy: 0.9605 - val_loss: 3.1957 - val_accuracy: 0.5313\n",
            "Epoch 88/100\n",
            "1563/1563 [==============================] - 10s 6ms/step - loss: 0.0772 - accuracy: 0.9742 - val_loss: 3.3300 - val_accuracy: 0.5462\n",
            "Epoch 89/100\n",
            "1563/1563 [==============================] - 10s 6ms/step - loss: 0.0389 - accuracy: 0.9876 - val_loss: 3.4233 - val_accuracy: 0.5495\n",
            "Epoch 90/100\n",
            "1563/1563 [==============================] - 10s 6ms/step - loss: 0.0519 - accuracy: 0.9828 - val_loss: 3.3330 - val_accuracy: 0.5556\n",
            "Epoch 91/100\n",
            "1563/1563 [==============================] - 10s 6ms/step - loss: 0.0834 - accuracy: 0.9720 - val_loss: 3.5562 - val_accuracy: 0.5349\n",
            "Epoch 92/100\n",
            "1563/1563 [==============================] - 10s 6ms/step - loss: 0.0346 - accuracy: 0.9890 - val_loss: 3.4600 - val_accuracy: 0.5443\n",
            "Epoch 93/100\n",
            "1563/1563 [==============================] - 10s 7ms/step - loss: 0.0372 - accuracy: 0.9888 - val_loss: 4.4107 - val_accuracy: 0.4860\n",
            "Epoch 94/100\n",
            "1563/1563 [==============================] - 10s 6ms/step - loss: 0.1340 - accuracy: 0.9540 - val_loss: 3.5303 - val_accuracy: 0.5226\n",
            "Epoch 95/100\n",
            "1563/1563 [==============================] - 10s 6ms/step - loss: 0.0891 - accuracy: 0.9696 - val_loss: 3.3593 - val_accuracy: 0.5454\n",
            "Epoch 96/100\n",
            "1563/1563 [==============================] - 10s 6ms/step - loss: 0.0495 - accuracy: 0.9841 - val_loss: 3.3958 - val_accuracy: 0.5452\n",
            "Epoch 97/100\n",
            "1563/1563 [==============================] - 10s 6ms/step - loss: 0.0389 - accuracy: 0.9883 - val_loss: 3.7552 - val_accuracy: 0.5265\n",
            "Epoch 98/100\n",
            "1563/1563 [==============================] - 10s 7ms/step - loss: 0.0268 - accuracy: 0.9922 - val_loss: 3.5158 - val_accuracy: 0.5647\n",
            "Epoch 99/100\n",
            "1563/1563 [==============================] - 10s 6ms/step - loss: 0.0080 - accuracy: 0.9985 - val_loss: 3.6212 - val_accuracy: 0.5669\n",
            "Epoch 100/100\n",
            "1563/1563 [==============================] - 10s 6ms/step - loss: 0.0061 - accuracy: 0.9987 - val_loss: 3.7163 - val_accuracy: 0.5680\n"
          ]
        }
      ],
      "source": [
        "opt = keras.optimizers.Adam(learning_rate=0.01)\n",
        "sgd = keras.optimizers.SGD(learning_rate=0.01)\n",
        "print(\"[INFO] training network..\")\n",
        "epochs = 100\n",
        "\n",
        "model.compile(loss=\"categorical_crossentropy\", optimizer=sgd, metrics=[\"accuracy\"])\n",
        "H = model.fit(trainX, trainY, validation_data=(testX, testY), epochs=epochs, batch_size=32)"
      ]
    },
    {
      "cell_type": "code",
      "execution_count": 11,
      "metadata": {
        "colab": {
          "base_uri": "https://localhost:8080/"
        },
        "id": "p1BdbPjPMQZ0",
        "outputId": "a23693f1-8cff-4ffd-9011-926984e26fb3"
      },
      "outputs": [
        {
          "output_type": "stream",
          "name": "stdout",
          "text": [
            "[INFO] evaluating network...\n",
            "              precision    recall  f1-score   support\n",
            "\n",
            "    airplane       0.59      0.69      0.64      1000\n",
            "  automobile       0.68      0.67      0.68      1000\n",
            "        bird       0.46      0.46      0.46      1000\n",
            "         cat       0.39      0.40      0.39      1000\n",
            "        deer       0.52      0.48      0.50      1000\n",
            "         dog       0.47      0.48      0.47      1000\n",
            "        frog       0.61      0.64      0.62      1000\n",
            "       horse       0.67      0.61      0.64      1000\n",
            "        ship       0.69      0.68      0.68      1000\n",
            "       truck       0.61      0.58      0.60      1000\n",
            "\n",
            "    accuracy                           0.57     10000\n",
            "   macro avg       0.57      0.57      0.57     10000\n",
            "weighted avg       0.57      0.57      0.57     10000\n",
            "\n"
          ]
        }
      ],
      "source": [
        "print(\"[INFO] evaluating network...\")\n",
        "\n",
        "predictions = model.predict(testX, batch_size=32)\n",
        "\n",
        "print(classification_report(testY.argmax(axis=1), predictions.argmax(axis=1), target_names = labelnames))"
      ]
    },
    {
      "cell_type": "code",
      "execution_count": 12,
      "metadata": {
        "colab": {
          "base_uri": "https://localhost:8080/",
          "height": 299
        },
        "id": "dNCxK54AMb98",
        "outputId": "6a271e0b-4f1b-4d04-fad2-3872ef2e1160"
      },
      "outputs": [
        {
          "output_type": "display_data",
          "data": {
            "image/png": "[encoded data removed]",
            "text/plain": [
              "<Figure size 432x288 with 1 Axes>"
            ]
          },
          "metadata": {}
        }
      ],
      "source": [
        "plt.style.use(\"ggplot\")\n",
        "plt.figure()\n",
        "plt.plot(np.arange(0, epochs), H.history[\"loss\"], label=\"train_loss\")\n",
        "plt.plot(np.arange(0, epochs), H.history[\"val_loss\"], label=\"val_loss\")\n",
        "plt.plot(np.arange(0, epochs), H.history[\"accuracy\"], label=\"train_acc\")\n",
        "plt.plot(np.arange(0, epochs), H.history[\"val_accuracy\"], label=\"val_acc\")\n",
        "plt.title(\"Training loss and accuracy\")\n",
        "plt.xlabel(\"Epoch #\")\n",
        "plt.ylabel(\"Loss/Accuracy\")\n",
        "plt.legend()\n",
        "plt.savefig('/content/drive/MyDrive/DataScience/Pyimagesearch_DeepLearningBook/Chapter10/keras_cifar10_output.png')"
      ]
    },
    {
      "cell_type": "code",
      "execution_count": 8,
      "metadata": {
        "id": "AXe0umRlMi_X"
      },
      "outputs": [],
      "source": [
        ""
      ]
    }
  ],
  "metadata": {
    "accelerator": "GPU",
    "colab": {
      "collapsed_sections": [],
      "name": "keras_cifar10.ipynb",
      "provenance": []
    },
    "kernelspec": {
      "display_name": "Python 3",
      "name": "python3"
    },
    "language_info": {
      "name": "python"
    }
  },
  "nbformat": 4,
  "nbformat_minor": 0
}