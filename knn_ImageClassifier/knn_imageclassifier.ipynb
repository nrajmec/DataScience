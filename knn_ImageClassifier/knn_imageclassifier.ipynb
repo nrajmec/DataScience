{
  "nbformat": 4,
  "nbformat_minor": 0,
  "metadata": {
    "colab": {
      "name": "knn_imageclassifier.ipynb",
      "provenance": [],
      "collapsed_sections": []
    },
    "kernelspec": {
      "name": "python3",
      "display_name": "Python 3"
    },
    "language_info": {
      "name": "python"
    },
    "accelerator": "GPU"
  },
  "cells": [
    {
      "cell_type": "code",
      "execution_count": 2,
      "metadata": {
        "colab": {
          "base_uri": "https://localhost:8080/"
        },
        "id": "ehoI4_nitpj-",
        "outputId": "23a20397-24a1-40a2-dbf5-aba0dd5a9b43"
      },
      "outputs": [
        {
          "output_type": "stream",
          "name": "stdout",
          "text": [
            "Drive already mounted at /content/drive; to attempt to forcibly remount, call drive.mount(\"/content/drive\", force_remount=True).\n"
          ]
        }
      ],
      "source": [
        "from google.colab import drive\n",
        "\n",
        "drive.mount('/content/drive')"
      ]
    },
    {
      "cell_type": "code",
      "source": [
        "# !unzip \"/content/drive/MyDrive/DataScience/Pyimagesearch_DeepLearningBook/Chapter7/archive.zip\" -d \"/content/drive/MyDrive/DataScience/Pyimagesearch_DeepLearningBook/Chapter7/\""
      ],
      "metadata": {
        "id": "TEDkgO_mt0p1"
      },
      "execution_count": 3,
      "outputs": []
    },
    {
      "cell_type": "code",
      "source": [
        "import os\n",
        "\n",
        "all_images = []\n",
        "\n",
        "for path, subdirs, files in os.walk(\"/content/drive/MyDrive/DataScience/Pyimagesearch_DeepLearningBook/Chapter7/animals\"):\n",
        "    for name in files:\n",
        "        all_images.append(os.path.join(path, name))\n",
        "\n",
        "len(all_images)"
      ],
      "metadata": {
        "colab": {
          "base_uri": "https://localhost:8080/"
        },
        "id": "CYDmjtI8wI6y",
        "outputId": "2f92d7c3-a615-4be8-c0af-2fd0f8414a06"
      },
      "execution_count": 4,
      "outputs": [
        {
          "output_type": "execute_result",
          "data": {
            "text/plain": [
              "3000"
            ]
          },
          "metadata": {},
          "execution_count": 4
        }
      ]
    },
    {
      "cell_type": "code",
      "source": [
        "import cv2\n",
        "\n",
        "class SimplePreprocessor:\n",
        "  def __init__(self, width, height, inter=cv2.INTER_AREA):\n",
        "    self.width = width\n",
        "    self.height = height\n",
        "    self.inter = inter\n",
        "\n",
        "  def preprocess(self, image):\n",
        "    return cv2.resize(image, (self.width, self.height), interpolation = self.inter)"
      ],
      "metadata": {
        "id": "CBR3Hntt33Js"
      },
      "execution_count": 5,
      "outputs": []
    },
    {
      "cell_type": "code",
      "source": [
        "import numpy as np\n",
        "class SimpleDatasetLoader:\n",
        "  def __init__(self, preprocessors=None):\n",
        "    self.preprocessors = preprocessors\n",
        "\n",
        "    if self.preprocessors is None:\n",
        "      self.preprocessors = []\n",
        "\n",
        "  def load(self, imagePaths, verbose=-1):\n",
        "    data = []\n",
        "    labels = []\n",
        "\n",
        "    for (i, imagePath) in enumerate(imagePaths):\n",
        "      image = cv2.imread(imagePath)\n",
        "      label = imagePath.split(os.path.sep)[-2]\n",
        "\n",
        "      if self.preprocessors is not None:\n",
        "        for p in self.preprocessors:\n",
        "          image = p.preprocess(image)\n",
        "\n",
        "      data.append(image)\n",
        "      labels.append(label)\n",
        "\n",
        "      if verbose > 0 and i > 0 and (i+1) % verbose == 0:\n",
        "        print(\"[INFO] processed {}/{}\".format(i+1, len(imagePaths)))\n",
        "\n",
        "    return (np.array(data), np.array(labels))\n"
      ],
      "metadata": {
        "id": "OK6wEZkE5IdJ"
      },
      "execution_count": 6,
      "outputs": []
    },
    {
      "cell_type": "code",
      "source": [
        "from sklearn.neighbors import KNeighborsClassifier\n",
        "from sklearn.preprocessing import LabelEncoder\n",
        "from sklearn.model_selection import train_test_split\n",
        "from sklearn.metrics import classification_report\n",
        "from imutils import paths\n",
        "import argparse"
      ],
      "metadata": {
        "id": "g6jxNwkx6xtA"
      },
      "execution_count": 7,
      "outputs": []
    },
    {
      "cell_type": "code",
      "source": [
        "print(\"[INFO] loading images..\")\n",
        "\n",
        "sp = SimplePreprocessor(32, 32)\n",
        "\n",
        "sdl = SimpleDatasetLoader(preprocessors=[sp])\n",
        "\n",
        "(data, labels) = sdl.load(all_images, verbose=500)\n",
        "\n",
        "print(data.shape)\n",
        "\n",
        "data = data.reshape((data.shape[0], 3072))\n",
        "\n",
        "print(\"[INFO] feature matrix: {:.1f}MB\".format(data.nbytes / (1024 * 1000.0)))"
      ],
      "metadata": {
        "colab": {
          "base_uri": "https://localhost:8080/"
        },
        "id": "CyJLuaqm9vYJ",
        "outputId": "92ad988a-c82f-4d1b-d73a-5820f6644a31"
      },
      "execution_count": 8,
      "outputs": [
        {
          "output_type": "stream",
          "name": "stdout",
          "text": [
            "[INFO] loading images..\n",
            "[INFO] processed 500/3000\n",
            "[INFO] processed 1000/3000\n",
            "[INFO] processed 1500/3000\n",
            "[INFO] processed 2000/3000\n",
            "[INFO] processed 2500/3000\n",
            "[INFO] processed 3000/3000\n",
            "(3000, 32, 32, 3)\n",
            "[INFO] feature matrix: 9.0MB\n"
          ]
        }
      ]
    },
    {
      "cell_type": "code",
      "source": [
        "le = LabelEncoder()\n",
        "labels = le.fit_transform(labels)\n",
        "\n",
        "(trainX, testX, trainY, testY) = train_test_split(data, labels, test_size=0.25, random_state=42)"
      ],
      "metadata": {
        "id": "woJz9_UY-Xl8"
      },
      "execution_count": 11,
      "outputs": []
    },
    {
      "cell_type": "code",
      "source": [
        "print(\"[INFO] evaluating K-NN classifier..\")\n",
        "model = KNeighborsClassifier(n_neighbors=5, n_jobs=1)\n",
        "\n",
        "model.fit(trainX, trainY)\n",
        "print(classification_report(testY, model.predict(testX), target_names= le.classes_))"
      ],
      "metadata": {
        "colab": {
          "base_uri": "https://localhost:8080/"
        },
        "id": "73OL51gT_KFh",
        "outputId": "49e0194c-d8f6-4222-8754-f1b679d30fa6"
      },
      "execution_count": 12,
      "outputs": [
        {
          "output_type": "stream",
          "name": "stdout",
          "text": [
            "[INFO] evaluating K-NN classifier..\n",
            "              precision    recall  f1-score   support\n",
            "\n",
            "        cats       0.43      0.54      0.48       262\n",
            "        dogs       0.35      0.49      0.41       249\n",
            "       panda       0.92      0.28      0.43       239\n",
            "\n",
            "    accuracy                           0.44       750\n",
            "   macro avg       0.57      0.44      0.44       750\n",
            "weighted avg       0.56      0.44      0.44       750\n",
            "\n"
          ]
        }
      ]
    },
    {
      "cell_type": "code",
      "source": [
        ""
      ],
      "metadata": {
        "id": "yWD_uSKTBQaU"
      },
      "execution_count": null,
      "outputs": []
    }
  ]
}